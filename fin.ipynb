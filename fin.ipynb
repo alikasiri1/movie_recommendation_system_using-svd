{
 "cells": [
  {
   "cell_type": "code",
   "execution_count": 1,
   "metadata": {},
   "outputs": [
    {
     "data": {
      "text/html": [
       "<div>\n",
       "<style scoped>\n",
       "    .dataframe tbody tr th:only-of-type {\n",
       "        vertical-align: middle;\n",
       "    }\n",
       "\n",
       "    .dataframe tbody tr th {\n",
       "        vertical-align: top;\n",
       "    }\n",
       "\n",
       "    .dataframe thead th {\n",
       "        text-align: right;\n",
       "    }\n",
       "</style>\n",
       "<table border=\"1\" class=\"dataframe\">\n",
       "  <thead>\n",
       "    <tr style=\"text-align: right;\">\n",
       "      <th></th>\n",
       "      <th>userId</th>\n",
       "      <th>movieId</th>\n",
       "      <th>rating</th>\n",
       "      <th>timestamp</th>\n",
       "    </tr>\n",
       "  </thead>\n",
       "  <tbody>\n",
       "    <tr>\n",
       "      <th>0</th>\n",
       "      <td>1</td>\n",
       "      <td>1</td>\n",
       "      <td>4.0</td>\n",
       "      <td>964982703</td>\n",
       "    </tr>\n",
       "    <tr>\n",
       "      <th>1</th>\n",
       "      <td>1</td>\n",
       "      <td>3</td>\n",
       "      <td>4.0</td>\n",
       "      <td>964981247</td>\n",
       "    </tr>\n",
       "    <tr>\n",
       "      <th>2</th>\n",
       "      <td>1</td>\n",
       "      <td>6</td>\n",
       "      <td>4.0</td>\n",
       "      <td>964982224</td>\n",
       "    </tr>\n",
       "    <tr>\n",
       "      <th>3</th>\n",
       "      <td>1</td>\n",
       "      <td>47</td>\n",
       "      <td>5.0</td>\n",
       "      <td>964983815</td>\n",
       "    </tr>\n",
       "    <tr>\n",
       "      <th>4</th>\n",
       "      <td>1</td>\n",
       "      <td>50</td>\n",
       "      <td>5.0</td>\n",
       "      <td>964982931</td>\n",
       "    </tr>\n",
       "    <tr>\n",
       "      <th>...</th>\n",
       "      <td>...</td>\n",
       "      <td>...</td>\n",
       "      <td>...</td>\n",
       "      <td>...</td>\n",
       "    </tr>\n",
       "    <tr>\n",
       "      <th>100831</th>\n",
       "      <td>610</td>\n",
       "      <td>166534</td>\n",
       "      <td>4.0</td>\n",
       "      <td>1493848402</td>\n",
       "    </tr>\n",
       "    <tr>\n",
       "      <th>100832</th>\n",
       "      <td>610</td>\n",
       "      <td>168248</td>\n",
       "      <td>5.0</td>\n",
       "      <td>1493850091</td>\n",
       "    </tr>\n",
       "    <tr>\n",
       "      <th>100833</th>\n",
       "      <td>610</td>\n",
       "      <td>168250</td>\n",
       "      <td>5.0</td>\n",
       "      <td>1494273047</td>\n",
       "    </tr>\n",
       "    <tr>\n",
       "      <th>100834</th>\n",
       "      <td>610</td>\n",
       "      <td>168252</td>\n",
       "      <td>5.0</td>\n",
       "      <td>1493846352</td>\n",
       "    </tr>\n",
       "    <tr>\n",
       "      <th>100835</th>\n",
       "      <td>610</td>\n",
       "      <td>170875</td>\n",
       "      <td>3.0</td>\n",
       "      <td>1493846415</td>\n",
       "    </tr>\n",
       "  </tbody>\n",
       "</table>\n",
       "<p>100836 rows × 4 columns</p>\n",
       "</div>"
      ],
      "text/plain": [
       "        userId  movieId  rating   timestamp\n",
       "0            1        1     4.0   964982703\n",
       "1            1        3     4.0   964981247\n",
       "2            1        6     4.0   964982224\n",
       "3            1       47     5.0   964983815\n",
       "4            1       50     5.0   964982931\n",
       "...        ...      ...     ...         ...\n",
       "100831     610   166534     4.0  1493848402\n",
       "100832     610   168248     5.0  1493850091\n",
       "100833     610   168250     5.0  1494273047\n",
       "100834     610   168252     5.0  1493846352\n",
       "100835     610   170875     3.0  1493846415\n",
       "\n",
       "[100836 rows x 4 columns]"
      ]
     },
     "execution_count": 1,
     "metadata": {},
     "output_type": "execute_result"
    }
   ],
   "source": [
    "import numpy as np\n",
    "import pandas as pd\n",
    "from scipy.linalg import eig\n",
    "movies_df = pd.read_csv(r\"C:\\Users\\akgh1\\Desktop\\movies.csv\")\n",
    "\n",
    "ratings_df = pd.read_csv(r\"C:\\Users\\akgh1\\Desktop\\ratings.csv\")\n",
    "ratings_df"
   ]
  },
  {
   "cell_type": "code",
   "execution_count": 3,
   "metadata": {},
   "outputs": [
    {
     "data": {
      "text/plain": [
       "'Drop Dead Fred (1991)'"
      ]
     },
     "execution_count": 3,
     "metadata": {},
     "output_type": "execute_result"
    }
   ],
   "source": [
    "movies_df[\"title\"].values[855]"
   ]
  },
  {
   "cell_type": "code",
   "execution_count": 4,
   "metadata": {},
   "outputs": [
    {
     "data": {
      "text/html": [
       "<div>\n",
       "<style scoped>\n",
       "    .dataframe tbody tr th:only-of-type {\n",
       "        vertical-align: middle;\n",
       "    }\n",
       "\n",
       "    .dataframe tbody tr th {\n",
       "        vertical-align: top;\n",
       "    }\n",
       "\n",
       "    .dataframe thead th {\n",
       "        text-align: right;\n",
       "    }\n",
       "</style>\n",
       "<table border=\"1\" class=\"dataframe\">\n",
       "  <thead>\n",
       "    <tr style=\"text-align: right;\">\n",
       "      <th></th>\n",
       "      <th>movieId</th>\n",
       "      <th>title</th>\n",
       "      <th>genres</th>\n",
       "    </tr>\n",
       "  </thead>\n",
       "  <tbody>\n",
       "    <tr>\n",
       "      <th>0</th>\n",
       "      <td>1</td>\n",
       "      <td>Toy Story (1995)</td>\n",
       "      <td>Adventure|Animation|Children|Comedy|Fantasy</td>\n",
       "    </tr>\n",
       "    <tr>\n",
       "      <th>1</th>\n",
       "      <td>2</td>\n",
       "      <td>Jumanji (1995)</td>\n",
       "      <td>Adventure|Children|Fantasy</td>\n",
       "    </tr>\n",
       "    <tr>\n",
       "      <th>2</th>\n",
       "      <td>3</td>\n",
       "      <td>Grumpier Old Men (1995)</td>\n",
       "      <td>Comedy|Romance</td>\n",
       "    </tr>\n",
       "    <tr>\n",
       "      <th>3</th>\n",
       "      <td>4</td>\n",
       "      <td>Waiting to Exhale (1995)</td>\n",
       "      <td>Comedy|Drama|Romance</td>\n",
       "    </tr>\n",
       "    <tr>\n",
       "      <th>4</th>\n",
       "      <td>5</td>\n",
       "      <td>Father of the Bride Part II (1995)</td>\n",
       "      <td>Comedy</td>\n",
       "    </tr>\n",
       "    <tr>\n",
       "      <th>...</th>\n",
       "      <td>...</td>\n",
       "      <td>...</td>\n",
       "      <td>...</td>\n",
       "    </tr>\n",
       "    <tr>\n",
       "      <th>9737</th>\n",
       "      <td>193581</td>\n",
       "      <td>Black Butler: Book of the Atlantic (2017)</td>\n",
       "      <td>Action|Animation|Comedy|Fantasy</td>\n",
       "    </tr>\n",
       "    <tr>\n",
       "      <th>9738</th>\n",
       "      <td>193583</td>\n",
       "      <td>No Game No Life: Zero (2017)</td>\n",
       "      <td>Animation|Comedy|Fantasy</td>\n",
       "    </tr>\n",
       "    <tr>\n",
       "      <th>9739</th>\n",
       "      <td>193585</td>\n",
       "      <td>Flint (2017)</td>\n",
       "      <td>Drama</td>\n",
       "    </tr>\n",
       "    <tr>\n",
       "      <th>9740</th>\n",
       "      <td>193587</td>\n",
       "      <td>Bungo Stray Dogs: Dead Apple (2018)</td>\n",
       "      <td>Action|Animation</td>\n",
       "    </tr>\n",
       "    <tr>\n",
       "      <th>9741</th>\n",
       "      <td>193609</td>\n",
       "      <td>Andrew Dice Clay: Dice Rules (1991)</td>\n",
       "      <td>Comedy</td>\n",
       "    </tr>\n",
       "  </tbody>\n",
       "</table>\n",
       "<p>9742 rows × 3 columns</p>\n",
       "</div>"
      ],
      "text/plain": [
       "      movieId                                      title  \\\n",
       "0           1                           Toy Story (1995)   \n",
       "1           2                             Jumanji (1995)   \n",
       "2           3                    Grumpier Old Men (1995)   \n",
       "3           4                   Waiting to Exhale (1995)   \n",
       "4           5         Father of the Bride Part II (1995)   \n",
       "...       ...                                        ...   \n",
       "9737   193581  Black Butler: Book of the Atlantic (2017)   \n",
       "9738   193583               No Game No Life: Zero (2017)   \n",
       "9739   193585                               Flint (2017)   \n",
       "9740   193587        Bungo Stray Dogs: Dead Apple (2018)   \n",
       "9741   193609        Andrew Dice Clay: Dice Rules (1991)   \n",
       "\n",
       "                                           genres  \n",
       "0     Adventure|Animation|Children|Comedy|Fantasy  \n",
       "1                      Adventure|Children|Fantasy  \n",
       "2                                  Comedy|Romance  \n",
       "3                            Comedy|Drama|Romance  \n",
       "4                                          Comedy  \n",
       "...                                           ...  \n",
       "9737              Action|Animation|Comedy|Fantasy  \n",
       "9738                     Animation|Comedy|Fantasy  \n",
       "9739                                        Drama  \n",
       "9740                             Action|Animation  \n",
       "9741                                       Comedy  \n",
       "\n",
       "[9742 rows x 3 columns]"
      ]
     },
     "execution_count": 4,
     "metadata": {},
     "output_type": "execute_result"
    }
   ],
   "source": [
    "movies_df"
   ]
  },
  {
   "cell_type": "code",
   "execution_count": 6,
   "metadata": {},
   "outputs": [
    {
     "data": {
      "text/plain": [
       "1"
      ]
     },
     "execution_count": 6,
     "metadata": {},
     "output_type": "execute_result"
    }
   ],
   "source": [
    "dic[0]"
   ]
  },
  {
   "cell_type": "code",
   "execution_count": 5,
   "metadata": {},
   "outputs": [
    {
     "data": {
      "text/plain": [
       "193609"
      ]
     },
     "execution_count": 5,
     "metadata": {},
     "output_type": "execute_result"
    }
   ],
   "source": [
    "dic = {}\n",
    "for i in range(9742):\n",
    "    dic[i] = movies_df['movieId'][i]\n",
    "dic[9741]"
   ]
  },
  {
   "cell_type": "code",
   "execution_count": 45,
   "metadata": {},
   "outputs": [
    {
     "data": {
      "text/plain": [
       "array([[4. , 0. , 4. , ..., 0. , 0. , 0. ],\n",
       "       [0. , 0. , 0. , ..., 0. , 0. , 0. ],\n",
       "       [0. , 0. , 0. , ..., 0. , 0. , 0. ],\n",
       "       ...,\n",
       "       [2.5, 2. , 2. , ..., 0. , 0. , 0. ],\n",
       "       [3. , 0. , 0. , ..., 0. , 0. , 0. ],\n",
       "       [5. , 0. , 0. , ..., 0. , 0. , 0. ]])"
      ]
     },
     "execution_count": 45,
     "metadata": {},
     "output_type": "execute_result"
    }
   ],
   "source": [
    "df = np.loadtxt(\"S.txt\")\n",
    "df"
   ]
  },
  {
   "cell_type": "code",
   "execution_count": 48,
   "metadata": {},
   "outputs": [
    {
     "data": {
      "text/plain": [
       "9742"
      ]
     },
     "execution_count": 48,
     "metadata": {},
     "output_type": "execute_result"
    }
   ],
   "source": [
    "len(np.dot(df.T , df))"
   ]
  },
  {
   "cell_type": "code",
   "execution_count": 6,
   "metadata": {},
   "outputs": [
    {
     "data": {
      "text/plain": [
       "array([[4., 0., 4., ..., 0., 0., 0.],\n",
       "       [0., 0., 0., ..., 0., 0., 0.],\n",
       "       [0., 0., 0., ..., 0., 0., 0.],\n",
       "       ...,\n",
       "       [2., 2., 2., ..., 0., 0., 0.],\n",
       "       [3., 0., 0., ..., 0., 0., 0.],\n",
       "       [5., 0., 0., ..., 0., 0., 0.]])"
      ]
     },
     "execution_count": 6,
     "metadata": {},
     "output_type": "execute_result"
    }
   ],
   "source": [
    "# df = np.loadtxt(\"myarray.txt\")\n",
    "# df"
   ]
  },
  {
   "cell_type": "code",
   "execution_count": 46,
   "metadata": {},
   "outputs": [],
   "source": [
    "def svd(matrix, k=None):\n",
    "    \"\"\"\n",
    "    Perform Singular Value Decomposition (SVD) on the given matrix.\n",
    "\n",
    "    Parameters:\n",
    "    - matrix: The input matrix to decompose.\n",
    "    - k: The number of singular values to retain. If None, all singular values are retained.\n",
    "\n",
    "    Returns:\n",
    "    U, Sigma, Vt: Matrices from the decomposition.\n",
    "    \"\"\"\n",
    "    # Step 1: Compute covariance matrices\n",
    "    M = np.dot(matrix, matrix.T)\n",
    "    N = np.dot(matrix.T, matrix)\n",
    "\n",
    "    # Step 2: Compute eigenvalues and eigenvectors\n",
    "    eigenvalues_M, U = np.linalg.eigh(M)\n",
    "    print(eigenvalues_M)\n",
    "    eigenvalues_N, Vt = np.linalg.eigh(N)\n",
    "  \n",
    "    # Step 3: Sort eigenvalues and eigenvectors in descending order\n",
    "    # U = U[:, ::-1]\n",
    "    # Sort the eigenvalues in descending order\n",
    "    sorted_indices = np.argsort(eigenvalues_N)[::-1]\n",
    "    eigenvalues_N = eigenvalues_N[sorted_indices]\n",
    "    Vt = Vt[:, sorted_indices]\n",
    "    # Vt = Vt[:, ::-1]\n",
    "    sorted_indices = np.argsort(eigenvalues_M)[::-1]\n",
    "    eigenvalues_M = eigenvalues_M[sorted_indices]\n",
    "    print(eigenvalues_M)\n",
    "    # print(eigenvalues_N)\n",
    "    j=[]\n",
    "    # Compute the singular values\n",
    "    # singular_values = np.sqrt(eigenvalues)\n",
    "    p = 0\n",
    "    for i in range(len(eigenvalues_N)):\n",
    "        if eigenvalues_N[i] == 0 or eigenvalues_N[i] < 0:\n",
    "            p = i\n",
    "            break\n",
    "    \n",
    "    for i in range(len(eigenvalues_N)):\n",
    "        if eigenvalues_N[i] != 0 :\n",
    "            j.append(eigenvalues_N[i])\n",
    "    r = len(j)\n",
    "    print(\" r= \" , r)\n",
    "    no_zero = np.array(j)\n",
    "    no_zero = np.sqrt(no_zero)\n",
    "    print(no_zero)\n",
    "    U = U[:, sorted_indices]\n",
    "    # eigenvalues_M = eigenvalues_M[::-1]\n",
    "\n",
    "    # Step 4: Compute singular values (square root of eigenvalues)\n",
    "    # singular_values = np.sqrt(eigenvalues_N)\n",
    "    # Sigma = np.diag(singular_values)\n",
    "\n",
    "    Sigma = no_zero[~np.isnan(no_zero)]\n",
    "\n",
    "    # Sigma = np.sqrt(eigenvalues_M)\n",
    "\n",
    "    # Step 5: Truncate matrices based on the specified number of singular values (k)\n",
    "    if k is not None:\n",
    "        U = U[:, :k]\n",
    "        Sigma = Sigma[:k]\n",
    "        Vt = Vt[:k, :]\n",
    "\n",
    "    return U[: , :p], Sigma, Vt[: , :p].T\n"
   ]
  },
  {
   "cell_type": "code",
   "execution_count": 58,
   "metadata": {},
   "outputs": [
    {
     "name": "stdout",
     "output_type": "stream",
     "text": [
      "mamad\n",
      "[[0.11145854 0.22265625 0.22239543]\n",
      " [0.22265625 0.44479146 0.44427043]\n",
      " [0.22239543 0.44427043 0.44375   ]]\n",
      "mamad\n",
      "[[0.43140897 0.34041927 0.35973601]\n",
      " [0.34041927 0.26862046 0.28386305]\n",
      " [0.35973601 0.28386305 0.29997057]]\n",
      "mamad\n",
      "[[0.35894416 0.33732288 0.34105208]\n",
      " [0.33732288 0.31700398 0.32050855]\n",
      " [0.34105208 0.32050855 0.32405186]]\n",
      "Eigenvalue: [ 360.    751.97 3001.52]\n",
      "Eigenvector: [[0.33385406 0.65681731 0.59911949]\n",
      " [0.66692688 0.51828608 0.56303107]\n",
      " [0.66614563 0.54769569 0.56925553]]\n"
     ]
    }
   ],
   "source": [
    "import numpy as np\n",
    "\n",
    "def power_iteration(matrix, num_iterations):\n",
    "    # Initialize a random vector\n",
    "    vector = np.ones(len(matrix))\n",
    "\n",
    "    for _ in range(num_iterations):\n",
    "        # Multiply the matrix by the vector\n",
    "        matrix_vector_product = np.dot(matrix, vector)\n",
    "\n",
    "        # Normalize the result\n",
    "        vector = matrix_vector_product / np.linalg.norm(matrix_vector_product)\n",
    "\n",
    "    # Calculate the eigenvalue\n",
    "    eigenvalue = np.dot(matrix_vector_product, vector)\n",
    "\n",
    "    return eigenvalue, vector\n",
    "\n",
    "def eigen_decomposition(A, num_iterations=4):\n",
    "    n = len(A)\n",
    "    eigenvalues = np.zeros(n)\n",
    "    eigenvectors = np.zeros((n, n))\n",
    "    \n",
    "    for i in range(n):\n",
    "        # Use power iteration to find eigenvalue and eigenvector\n",
    "        eigenvalue, eigenvector = power_iteration(A, num_iterations)\n",
    "        # eigenvalue *=10\n",
    "        # Store the results\n",
    "        eigenvalues[i] = eigenvalue\n",
    "        eigenvectors[:, i] = eigenvector\n",
    "    \n",
    "        # Deflate the matrix to find the next eigenvalue\n",
    "        print(\"mamad\")\n",
    "        print(np.outer(eigenvector, eigenvector))\n",
    "        # A = A - eigenvalue * np.outer(eigenvector, eigenvector)\n",
    "        A = A - np.dot(eigenvalue , np.dot(eigenvector, eigenvector))\n",
    "    return eigenvalues, eigenvectors\n",
    "\n",
    "\n",
    "# Example usage\n",
    "# matrix = np.array([\n",
    "#     [4, -1],\n",
    "#     [2,  1]\n",
    "# ])\n",
    "matrix = np.array([[4, 11 , 14],\n",
    "                   [8, 7 , -2]])\n",
    "# # matrix = np.array([[1, -1],\n",
    "# #               [-2, 2],\n",
    "# #               [2, -2]])\n",
    "matrix = np.dot(matrix.T , matrix)\n",
    "# matrix = np.dot(df.T , df)\n",
    "# eigenvalue, eigenvector = power_iteration(matrix, num_iterations=1000)\n",
    "eigenvalues, eigenvectors = eigen_decomposition(matrix)\n",
    "for i in range(0 , len(eigenvalues)):\n",
    "    eigenvalues[i] = round(eigenvalues[i], 2)\n",
    "print(\"Eigenvalue:\", eigenvalues)\n",
    "print(\"Eigenvector:\", eigenvectors)\n"
   ]
  },
  {
   "cell_type": "code",
   "execution_count": null,
   "metadata": {},
   "outputs": [],
   "source": [
    "\n"
   ]
  },
  {
   "cell_type": "code",
   "execution_count": null,
   "metadata": {},
   "outputs": [],
   "source": [
    "def svd(A, eigenvalues , V):\n",
    "\n",
    "    # Sort the eigenvalues in descending order\n",
    "    sorted_indices = np.argsort(eigenvalues)[::-1]\n",
    "    eigenvalues = eigenvalues[sorted_indices]\n",
    "    V = V[:, sorted_indices]\n",
    "    # Compute the singular values\n",
    "    for eigen_value in eigenvalues:\n",
    "        if eigen_value > 0:\n",
    "            singular_values = np.sqrt(eigenvalues)\n",
    "\n",
    "    # Compute the matrix U\n",
    "    U = np.dot(A, V)\n",
    "    print(U)\n",
    "\n",
    "    num_positive_singular = len(singular_values)\n",
    "    \n",
    "    U[: , :num_positive_singular] /= singular_values\n",
    "    \n",
    "    # Create the diagonal matrix Σ\n",
    "    Sigma = np.diag(singular_values)\n",
    "    \n",
    "    return U[: , :num_positive_singular], Sigma, V[:, :num_positive_singular].T"
   ]
  },
  {
   "cell_type": "code",
   "execution_count": 9,
   "metadata": {},
   "outputs": [
    {
     "name": "stdout",
     "output_type": "stream",
     "text": [
      "[ 90. 360.]\n",
      "[360.  90.]\n",
      " r=  3\n",
      "[18.97366596  9.48683298         nan]\n",
      "[[-0.9486833   0.31622777]\n",
      " [-0.31622777 -0.9486833 ]]\n",
      " \n",
      "___________________________________________________________________________\n",
      "[18.97366596  9.48683298]\n",
      " \n",
      "___________________________________________________________________________\n",
      "[[ 0.33333333  0.66666667  0.66666667]\n",
      " [ 0.66666667  0.33333333 -0.66666667]]\n",
      "___________________________________________________________________________\n"
     ]
    },
    {
     "name": "stderr",
     "output_type": "stream",
     "text": [
      "C:\\Users\\akgh1\\AppData\\Local\\Temp\\ipykernel_17888\\4161745378.py:47: RuntimeWarning: invalid value encountered in sqrt\n",
      "  no_zero = np.sqrt(no_zero)\n"
     ]
    }
   ],
   "source": [
    "U, Sigma, Vt = svd(A)\n",
    "print( U) \n",
    "print(\" \")\n",
    "print(\"___________________________________________________________________________\")\n",
    "print(Sigma) \n",
    "print(\" \")\n",
    "print(\"___________________________________________________________________________\")\n",
    "print(Vt)\n",
    "print(\"___________________________________________________________________________\")\n",
    "# ss = np.dot(U , Sigma)\n",
    "# print(np.dot(ss,Vt))"
   ]
  },
  {
   "cell_type": "code",
   "execution_count": 210,
   "metadata": {},
   "outputs": [
    {
     "name": "stdout",
     "output_type": "stream",
     "text": [
      "[[-5.87345305e-02  6.21026505e-02 -3.49542008e-03 ...  2.97456408e-03\n",
      "  -2.10156653e-04  3.39456818e-04]\n",
      " [-5.78779114e-03 -1.75595387e-02 -4.82222499e-03 ... -3.16470381e-03\n",
      "  -8.42336637e-03  7.32719887e-04]\n",
      " [-1.04449527e-03  1.60451128e-03  1.54613096e-03 ... -2.23215056e-03\n",
      "  -2.54491467e-03 -1.84948611e-03]\n",
      " ...\n",
      " [-1.13309443e-01  3.55645722e-03 -8.97055798e-03 ...  1.25486545e-03\n",
      "  -5.09102366e-04  1.34914595e-03]\n",
      " [-8.06446379e-03  1.51896718e-02 -4.13018274e-02 ...  1.12256696e-02\n",
      "  -4.14863382e-03 -1.77216763e-02]\n",
      " [-1.36649651e-01 -2.01098587e-01  7.35214792e-02 ... -1.19085693e-04\n",
      "  -4.22901430e-04  7.43794860e-04]]\n",
      " \n",
      "___________________________________________________________________________\n",
      "[511.66576176 223.84355603 187.22055486 163.96610293 149.42576459\n",
      " 141.96179148 129.7585341  118.48894988 116.53481388 108.15042669\n",
      " 105.04111753 103.61746881 101.94929334  97.00537043  95.48909396\n",
      "  95.29604573  91.76680298  90.67672863  89.35954452  88.18959731\n",
      "  87.53033315  85.50963658  83.75429386  83.18462726  82.39970654\n",
      "  79.71197468  78.87561445  78.53426421  77.55871126  76.23624657\n",
      "  75.82378677  75.28294963  75.15591111  73.72886005  72.75736831\n",
      "  72.4937732   72.15362921  71.42375127  71.03569885  70.8584457\n",
      "  70.13063768  69.75053574  68.78677269  68.04059906  67.54383984\n",
      "  67.1952043   66.62353628  66.31642736  66.02438351  65.51161948\n",
      "  65.02991569  64.71041252  64.46673259  64.06761777  63.81185296\n",
      "  63.12223119  62.86662754  62.52662706  62.21520238  61.76032125\n",
      "  61.47732497  61.31984276  61.08661938  60.93913385  60.79056541\n",
      "  60.24129496  59.90013203  59.77822836  59.20224243  58.9931115\n",
      "  58.60447554  58.11777155  58.02033901  57.92529373  57.51291753\n",
      "  57.33675343  56.97068514  56.80563737  56.52164786  56.24639145\n",
      "  56.09347958  55.70805396  55.48833463  55.27179429  55.04911973\n",
      "  54.95358176  54.52148134  54.35293933  54.29079027  53.8758984\n",
      "  53.77803532  53.45752476  53.14977537  53.03030439  52.84765362\n",
      "  52.58899416  52.52820652  52.2503504   52.01009755  51.74459312\n",
      "  51.43218061  51.27857626  51.18826377  50.93814628  50.84890261\n",
      "  50.60632511  50.46579216  50.35140919  50.05440128  49.68178734\n",
      "  49.51376067  49.37783344  48.75545919  48.6345689   48.31062435\n",
      "  48.11238593  48.03222505  47.92158941  47.73136534  47.69348633\n",
      "  47.48688043  47.32503605  47.12310091  47.00173003  46.80564502\n",
      "  46.55212475  46.44468153  46.11070689  46.01162041  45.87092664\n",
      "  45.72916815  45.41358388  45.22541054  45.2113438   44.86993404\n",
      "  44.8629884   44.40144392  44.23703717  44.16977922  43.82112805\n",
      "  43.69845516  43.64632482  43.4907949   43.09485779  42.87288224\n",
      "  42.79284464  42.68257821  42.58711926  42.49724038  42.36883082\n",
      "  42.31304442  42.04668051  42.01707776  41.94808437  41.54007507\n",
      "  41.45847681  41.34569358  41.1690211   41.11051788  40.9859668\n",
      "  40.93492481  40.7412215   40.30609384  40.15167816  40.096411\n",
      "  39.79078592  39.57762608  39.51674883  39.41492334  39.22961062\n",
      "  39.05474425  38.91381573  38.76389144  38.56074694  38.42355893\n",
      "  38.30670452  38.18352929  38.11829532  37.92464939  37.85741685\n",
      "  37.82860037  37.56045545  37.38085597  37.27848161  37.25729213\n",
      "  37.16618512  36.77534941  36.66309538  36.62737982  36.32244517\n",
      "  36.25201874  36.12065561  35.99474456  35.8945237   35.77374982\n",
      "  35.6241857   35.48874247  35.43318357  35.23717955  35.15074911\n",
      "  34.98613141  34.93965029  34.79672197  34.67513323  34.5720316\n",
      "  34.53477459  34.28698194  34.07974812  34.05020391  33.92964741\n",
      "  33.74779956  33.6353019   33.52039829  33.43740851  33.34209812\n",
      "  33.1866654   33.03657401  33.00101121  32.97530757  32.76606293\n",
      "  32.62467429  32.56174589  32.4946072   32.38048672  32.29373996\n",
      "  32.1976149   32.11601979  31.95087784  31.84980168  31.67678447\n",
      "  31.58931323  31.47592056  31.45973391  31.26565131  31.11245195\n",
      "  31.05558856  30.96383347  30.89490654  30.80606763  30.58256763\n",
      "  30.43872478  30.19693191  30.17660953  30.14244319  29.98069879\n",
      "  29.81930205  29.79770542  29.79442508  29.58664415  29.49138958\n",
      "  29.44983421  29.31824097  29.24466616  29.13365511  29.09147163\n",
      "  28.96315248  28.8590083   28.83996796  28.65013468  28.62162084\n",
      "  28.52426494  28.42282713  28.33117351  28.16966693  28.13090307\n",
      "  28.00435129  27.92601386  27.74051425  27.62851352  27.50632319\n",
      "  27.46738725  27.37906387  27.26232823  27.18831075  27.13102855\n",
      "  27.08615096  27.03294706  26.86373805  26.73384417  26.70448797\n",
      "  26.66007253  26.56284115  26.47206101  26.43789961  26.29977881\n",
      "  26.25633299  26.17935994  26.10014066  26.04170171  26.01844387\n",
      "  25.80577787  25.77626886  25.60361067  25.4888798   25.44678107\n",
      "  25.41532695  25.3229838   25.21786547  25.18710493  25.11025841\n",
      "  24.95310933  24.93469729  24.88242739  24.74841538  24.64770884\n",
      "  24.58025989  24.53368807  24.51288794  24.27111039  24.26427926\n",
      "  24.17686724  24.11347329  24.09569359  23.9688104   23.90688303\n",
      "  23.75120245  23.70915355  23.656642    23.58261544  23.50813436\n",
      "  23.32292706  23.29652678  23.24824439  23.16581958  23.0888157\n",
      "  23.08051131  22.94927986  22.83413012  22.79408395  22.69289242\n",
      "  22.66945693  22.6172189   22.55648637  22.48626682  22.3699271\n",
      "  22.30452979  22.2172804   22.15548259  22.14439109  22.10633964\n",
      "  22.04952827  21.98414217  21.89009901  21.79934366  21.74719313\n",
      "  21.59702155  21.58217659  21.53848202  21.43050083  21.38482339\n",
      "  21.35183649  21.17484472  21.1656135   21.1313049   21.02878749\n",
      "  20.96668467  20.93938284  20.90408857  20.85802828  20.72606034\n",
      "  20.67532633  20.56450445  20.53994207  20.4953277   20.42067805\n",
      "  20.38599236  20.29300963  20.23199961  20.16173888  20.09141227\n",
      "  20.02952577  19.96207255  19.9062033   19.84723835  19.78806631\n",
      "  19.67010414  19.6481294   19.58997591  19.45957282  19.41438377\n",
      "  19.37830032  19.31666898  19.28867778  19.2365451   19.18632515\n",
      "  19.11636636  19.02457774  18.97944176  18.95327677  18.84152775\n",
      "  18.82016967  18.81044366  18.75883101  18.6827956   18.58904991\n",
      "  18.53202951  18.45046457  18.42154112  18.34771836  18.30947845\n",
      "  18.25912578  18.17869344  18.13367685  18.03881531  17.98418132\n",
      "  17.94896074  17.90002844  17.85581621  17.80296989  17.6669512\n",
      "  17.63701864  17.58201649  17.54529081  17.52089214  17.49001479\n",
      "  17.43306046  17.41641614  17.35270608  17.23787751  17.15276838\n",
      "  17.11407927  17.03625469  17.00823357  16.96224224  16.9006272\n",
      "  16.86864416  16.80357289  16.75493021  16.63857935  16.61027665\n",
      "  16.57890403  16.50443497  16.46173064  16.42860723  16.37888591\n",
      "  16.29969295  16.25520083  16.23290064  16.13798954  16.10418951\n",
      "  16.0443032   16.00636447  15.94784255  15.89835607  15.83132052\n",
      "  15.7381074   15.71950287  15.61933131  15.58809338  15.5439792\n",
      "  15.47746683  15.45722339  15.4349586   15.37713034  15.27072472\n",
      "  15.23563479  15.20905301  15.1426198   15.10740949  15.02305619\n",
      "  14.96650523  14.92470405  14.87825579  14.81721607  14.74095253\n",
      "  14.67976352  14.62955615  14.55550133  14.53920798  14.46370161\n",
      "  14.42034049  14.38188974  14.33077677  14.26880829  14.21495981\n",
      "  14.19288984  14.14026828  14.07501212  14.07249912  14.00949343\n",
      "  13.94344914  13.89072311  13.8307878   13.81461665  13.72923096\n",
      "  13.64044432  13.61029992  13.59725949  13.55218973  13.48178364\n",
      "  13.40853179  13.36590431  13.34803115  13.2701367   13.17938517\n",
      "  13.14915703  13.07672591  13.02907912  12.98863541  12.93840372\n",
      "  12.88494271  12.83849722  12.81818392  12.64367307  12.61234097\n",
      "  12.59247533  12.58479952  12.4081016   12.39853972  12.37172808\n",
      "  12.3173177   12.29057803  12.18600737  12.11353753  12.09659994\n",
      "  12.00972666  11.97888008  11.95757794  11.90530364  11.86347539\n",
      "  11.77915583  11.74146721  11.6926534   11.60748173  11.55656313\n",
      "  11.47636041  11.4707782   11.40490482  11.37162151  11.3392564\n",
      "  11.24080915  11.18592211  11.11426426  11.0337917   11.01219089\n",
      "  10.93097749  10.88927665  10.79516845  10.77812031  10.74211322\n",
      "  10.70392711  10.61225952  10.57846675  10.46203347  10.43219337\n",
      "  10.38214307  10.32307778  10.29588042  10.18438118  10.17293002\n",
      "  10.08523437   9.9894379    9.96898726   9.89170827   9.80779321\n",
      "   9.78183611   9.65932388   9.61284412   9.5498286    9.4573146\n",
      "   9.37785489   9.33761196   9.25689862   9.17011609   9.14446118\n",
      "   9.07287066   8.92882541   8.87691073   8.80404499   8.72042985\n",
      "   8.65345172   8.61947912   8.60269044   8.53817806   8.34589562\n",
      "   8.28301955   8.16030665   8.06954065   7.97274571   7.86634384\n",
      "   7.81762919   7.69991995   7.64540763   7.5881065    7.53850603\n",
      "   7.33920331   7.29287545   7.16667888   7.06522246   6.97406384\n",
      "   6.77548031   6.64451507   6.50155907   6.45054185   6.312025\n",
      "   6.15170995   6.05626388   5.99024348   5.88965379   5.69095268\n",
      "   5.23655821   4.93610707   4.75084174   4.69421911   4.55375264\n",
      "   4.48180615   4.3301455    3.87041894   3.11986007   2.94810443]\n",
      " \n",
      "___________________________________________________________________________\n",
      "[[-7.18204542e-02 -3.80806480e-02 -1.62218386e-02 ... -5.57904600e-05\n",
      "  -5.57904600e-05 -2.83770370e-04]\n",
      " [ 3.00772444e-02  4.23748213e-03  2.54550304e-02 ... -5.12481526e-04\n",
      "  -5.12481526e-04 -1.35101457e-03]\n",
      " [-7.44803490e-02 -5.99187328e-02 -1.93802300e-02 ...  3.39148568e-05\n",
      "   3.39148568e-05 -1.76068061e-04]\n",
      " ...\n",
      " [-7.68235919e-04 -3.27191770e-04  4.00212602e-05 ...  9.92623017e-01\n",
      "  -7.37698325e-03  1.23488763e-04]\n",
      " [-7.68235919e-04 -3.27191770e-04  4.00212602e-05 ... -7.37698325e-03\n",
      "   9.92623017e-01  1.23488763e-04]\n",
      " [ 4.49368742e-03  1.32841806e-03  4.80660934e-04 ...  3.02652803e-05\n",
      "   3.02652803e-05  9.84108880e-01]]\n",
      "___________________________________________________________________________\n"
     ]
    }
   ],
   "source": [
    "Un, S, V = np.linalg.svd(df)\n",
    "print( U) \n",
    "print(\" \")\n",
    "print(\"___________________________________________________________________________\")\n",
    "print(S) \n",
    "print(\" \")\n",
    "print(\"___________________________________________________________________________\")\n",
    "print(V)\n",
    "print(\"___________________________________________________________________________\")\n",
    "# ss = np.dot(U , S)\n",
    "# print(np.dot(ss,V))"
   ]
  },
  {
   "cell_type": "code",
   "execution_count": 329,
   "metadata": {},
   "outputs": [],
   "source": [
    "def top_cosine_similarity(U, data, movie_id, top_n=10):\n",
    "    index = movie_id - 1 # Movie id starts from 1\n",
    "    user_row = U[index, :]\n",
    "    magnitude = np.sqrt(np.einsum('ij, ij -> i', data, data))\n",
    "    similarity = np.dot(user_row, data.T) / (magnitude[index] * magnitude)\n",
    "    sort_indexes = np.argsort(-similarity)\n",
    "    print(similarity.shape)\n",
    "    print(sort_indexes , sort_indexes.max())\n",
    "    return sort_indexes[:top_n]"
   ]
  },
  {
   "cell_type": "code",
   "execution_count": 338,
   "metadata": {},
   "outputs": [
    {
     "name": "stdout",
     "output_type": "stream",
     "text": [
      "(9742, 610)\n",
      "(9742,)\n",
      "[1126 1332 2788 ... 9590 6503 9117] 9741\n"
     ]
    },
    {
     "name": "stderr",
     "output_type": "stream",
     "text": [
      "C:\\Users\\akgh1\\AppData\\Local\\Temp\\ipykernel_21184\\4166208365.py:5: RuntimeWarning: invalid value encountered in divide\n",
      "  similarity = np.dot(user_row, data.T) / (magnitude[index] * magnitude)\n"
     ]
    }
   ],
   "source": [
    "k = 610\n",
    "movie_id = 1 # Grab an id from movies.dat\n",
    "top_n = 10\n",
    "\n",
    "sliced = V.T[:, :k] # representative data\n",
    "print(sliced.shape)\n",
    "indexes = top_cosine_similarity(Un, sliced, movie_id, top_n)\n",
    "# print_similar_movies(movie_data, movie_id, indexes)"
   ]
  },
  {
   "cell_type": "code",
   "execution_count": 339,
   "metadata": {},
   "outputs": [
    {
     "data": {
      "text/plain": [
       "array([1126, 1332, 2788, 2182, 1326,  927, 1505, 1517, 1110, 1994],\n",
       "      dtype=int64)"
      ]
     },
     "execution_count": 339,
     "metadata": {},
     "output_type": "execute_result"
    }
   ],
   "source": [
    "indexes"
   ]
  },
  {
   "cell_type": "code",
   "execution_count": 340,
   "metadata": {},
   "outputs": [
    {
     "name": "stdout",
     "output_type": "stream",
     "text": [
      "Exorcist II: The Heretic (1977)\n",
      "Rambo III (1988)\n",
      "Royal Wedding (1951)\n",
      "Bring It On (2000)\n",
      "Jack Frost (1998)\n",
      "U Turn (1997)\n",
      "Autumn Tale, An (Conte d'automne) (1998)\n",
      "Killer's Kiss (1955)\n",
      "Breakfast Club, The (1985)\n",
      "Caddyshack (1980)\n"
     ]
    }
   ],
   "source": [
    "for i in indexes:\n",
    "    # try:\n",
    "    print(movies_df[\"title\"].values[dic[i]])\n"
   ]
  },
  {
   "cell_type": "code",
   "execution_count": 341,
   "metadata": {},
   "outputs": [
    {
     "name": "stdout",
     "output_type": "stream",
     "text": [
      "Best Men (1997)\n",
      "Newton Boys, The (1998)\n",
      "Shaft (1971)\n",
      "Gulliver's Travels (1939)\n",
      "Welcome to Woop-Woop (1997)\n",
      "Quiet Man, The (1952)\n",
      "Black Cauldron, The (1985)\n",
      "Great Mouse Detective, The (1986)\n",
      "McHale's Navy (1997)\n",
      "Wolf Man, The (1941)\n"
     ]
    }
   ],
   "source": [
    "for i in indexes:\n",
    "    # try:\n",
    "    print(movies_df[movies_df[\"movieId\"] == dic[i]].title.values[0])"
   ]
  },
  {
   "cell_type": "markdown",
   "metadata": {},
   "source": [
    "###########################################################################################################"
   ]
  },
  {
   "cell_type": "code",
   "execution_count": 330,
   "metadata": {},
   "outputs": [
    {
     "name": "stdout",
     "output_type": "stream",
     "text": [
      "(9742, 610)\n",
      "(9742,)\n",
      "[ 735 6667 4169 ... 8228 9693 8143] 9741\n"
     ]
    },
    {
     "name": "stderr",
     "output_type": "stream",
     "text": [
      "C:\\Users\\akgh1\\AppData\\Local\\Temp\\ipykernel_21184\\4166208365.py:5: RuntimeWarning: invalid value encountered in divide\n",
      "  similarity = np.dot(user_row, data.T) / (magnitude[index] * magnitude)\n"
     ]
    }
   ],
   "source": [
    "k = 610\n",
    "movie_id = 1 # Grab an id from movies.dat\n",
    "top_n = 10\n",
    "\n",
    "sliced = Vt.T[:, :k] # representative data\n",
    "print(sliced.shape)\n",
    "indexes = top_cosine_similarity(U, sliced, movie_id, top_n)"
   ]
  },
  {
   "cell_type": "code",
   "execution_count": 332,
   "metadata": {},
   "outputs": [
    {
     "data": {
      "text/plain": [
       "array([ 735, 6667, 4169, 6090, 3113,  765, 7217, 7673, 6749, 2242],\n",
       "      dtype=int64)"
      ]
     },
     "execution_count": 332,
     "metadata": {},
     "output_type": "execute_result"
    }
   ],
   "source": [
    "indexes"
   ]
  },
  {
   "cell_type": "code",
   "execution_count": 337,
   "metadata": {},
   "outputs": [
    {
     "name": "stdout",
     "output_type": "stream",
     "text": [
      "Bringing Up Baby (1938)\n",
      "Cat Soup (Nekojiru-so) (2001)\n",
      "Confessions of a Dangerous Mind (2002)\n",
      "Rumor Has It... (2005)\n",
      "Lilies of the Field (1963)\n",
      "Apple Dumpling Gang, The (1975)\n",
      "American Pie Presents: The Book of Love (American Pie 7: The Book of Love) (2009)\n",
      "Hesher (2010)\n",
      "American Pie Presents Beta House (American Pie 6: Beta House) (2007)\n",
      "Crazy in Alabama (1999)\n"
     ]
    }
   ],
   "source": [
    "for i in indexes:\n",
    "    # try:\n",
    "    print(movies_df[movies_df[\"movieId\"] == dic[i]].title.values[0])\n",
    "    # print(movies_df[\"title\"].values[dic[i]])\n"
   ]
  },
  {
   "cell_type": "code",
   "execution_count": null,
   "metadata": {},
   "outputs": [],
   "source": []
  }
 ],
 "metadata": {
  "kernelspec": {
   "display_name": "Python 3",
   "language": "python",
   "name": "python3"
  },
  "language_info": {
   "codemirror_mode": {
    "name": "ipython",
    "version": 3
   },
   "file_extension": ".py",
   "mimetype": "text/x-python",
   "name": "python",
   "nbconvert_exporter": "python",
   "pygments_lexer": "ipython3",
   "version": "3.11.4"
  },
  "orig_nbformat": 4
 },
 "nbformat": 4,
 "nbformat_minor": 2
}
